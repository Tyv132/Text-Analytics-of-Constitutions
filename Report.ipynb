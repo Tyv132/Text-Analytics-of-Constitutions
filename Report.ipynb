{
 "cells": [
  {
   "cell_type": "markdown",
   "metadata": {},
   "source": [
    "# <b>Understanding the Social Character of Nations with Text Analytics of Digitized Constitutions</b>\n",
    "### By Tyler Valentine\n",
    "### May 5, 2023"
   ]
  },
  {
   "cell_type": "markdown",
   "metadata": {},
   "source": [
    "# <b>Introduction</b>"
   ]
  },
  {
   "cell_type": "markdown",
   "metadata": {},
   "source": [
    "In 1787, 55 men from 12 states met in Philadelphia, PA to create the framework for the constitution of the United States [[1]](https://www.digitalhistory.uh.edu/disp_textbook.cfm?smtid=2&psid=3231). At the time this was the first complete, written national constitution; however, the idea of a single constitution as a guide for governments became popular around the world. In 2023, over two centuries later, there are now 193 national constitutions in effect. Unlike the American constitution, new constitutions tend to be much longer because they govern more institutions (such as central banks and the military) and include more rights (such as more social, cultural, and economic rights) [[2]](https://constitutioncenter.org/education/classroom-resource-library/classroom/perspectives-on-the-constitution-constitutions-around-the-world).  \n",
    "\n",
    "While a constitution is a fundamental building block of a nation's government and laws, it is also a reflection of the social and cultural values of the society. The WORLD Policy Analysis Center is one organization working to study constitutions to understand how their explicit mention of citizen's rights shapes legislation and policies [[3]](https://www.worldpolicycenter.org/about/about-world). Their research involves the comparison of constitutional rights in various categories, including education, health, and religion. Two examples comparisons are shown for constitutional rights to higher education (Figure 1) and protections of health (Figure 2).\n"
   ]
  },
  {
   "cell_type": "markdown",
   "metadata": {},
   "source": [
    "<div class=\"image123\">\n",
    "    <div style=\"float:left;margin-right:5px;\">\n",
    "        <img src=\"./Figures/intro_education.png\" height=\"400\" width=\"400\"  />\n",
    "        <p style=\"text-align:center;\"><b>Figure 1.</b> Comparison of explicit rights to higher education.</p>\n",
    "    </div>\n",
    "    <div style=\"float:left;margin-right:5px;\">\n",
    "        <img class=\"middle-img\" src=\"./Figures/intro_health.png\" height=\"400\" width=\"400\" />\n",
    "        <p style=\"text-align:center;\"><b>Figure 2.</b> Comparison of explicit rights to health.</p>\n",
    "    </div>\n",
    "</div>"
   ]
  },
  {
   "cell_type": "markdown",
   "metadata": {},
   "source": [
    "This comparison of explicit mentions of contitutional rights is revealing of the priorities of the individual nations; however, there are also subtle differences in the constitutional structure that may reveal underlying characteristics of the nation's society. Methods in text analytics, including principal component analysis, topic modeling, and sentiment analysis, are ideal for exploring these structural differences in a corpus of texts. This project involves the application of these methods to a corpus of all 193 constitutions currently in effect, allowing for the analysis of the differences in social characteristics of nations based on their most fundamental texts. "
   ]
  },
  {
   "cell_type": "markdown",
   "metadata": {},
   "source": [
    "# <b>Source Data</b>"
   ]
  },
  {
   "cell_type": "markdown",
   "metadata": {},
   "source": [
    "## Provenance and Location"
   ]
  },
  {
   "cell_type": "markdown",
   "metadata": {},
   "source": [
    "The collection of 193 constitutions was sourced from the [Constitute Project](https://www.constituteproject.org/).\n",
    "\n",
    "Information about the form of government for each country was sourced from [here](https://www.visualcapitalist.com/cp/mapped-worlds-government-systems/).\n",
    "\n",
    "Information about the democracy rating for each country was sourced from [The Economist](https://www.eiu.com/n/campaigns/democracy-index-2022/).\n",
    "\n"
   ]
  },
  {
   "cell_type": "markdown",
   "metadata": {},
   "source": [
    "## Description "
   ]
  },
  {
   "cell_type": "markdown",
   "metadata": {},
   "source": [
    "The average number of tokens for the 193 constitutions is 19,853 with a standard deviation of 20,306 tokens. The shortest constitution is from Uzbekistan, which only has 351 tokens. The longest constitution is from the United Kingdom, with 184,569 tokens. The distribution in lengths of these documents is shown below in Figure 3. "
   ]
  },
  {
   "cell_type": "markdown",
   "metadata": {},
   "source": [
    "<div class=\"image123\">\n",
    "    <div style=\"float:left;margin-right:5px;\">\n",
    "        <img src=\"./Figures/token_statistics.png\" width=\"600\" height=\"600\" /> \n",
    "        <p style=\"text-align:center;\"><b>Figure 3.</b> Distribution of token counts for all 193 constitutions.</p>\n",
    "    </div>\n",
    "</div>"
   ]
  },
  {
   "cell_type": "markdown",
   "metadata": {},
   "source": [
    "## Format"
   ]
  },
  {
   "cell_type": "markdown",
   "metadata": {},
   "source": [
    "The constitution database contains the english translation of each constitution in HTML format. The constitutions were scraped from the website using the BeautifulSoup library based on the html tagging of each file. The textual information is found in each of the following tags: preamble (h2), article header (h3), bullet point (li), main content (p). Parsing the html files in this way allowed for the formatting of the data into a proper OHCO format of country name, article number, paragraph number, sentence number, and token number. This process of obtaining and formatting the data can be reproduced by following the \"Prepare Corpus\" section of the \"Analysis\" notebook. This makes use of the \"get_constitution\" function found in the \"MyFunctions\" python script. "
   ]
  },
  {
   "cell_type": "markdown",
   "metadata": {},
   "source": [
    "# <b>Data Model</b>"
   ]
  },
  {
   "cell_type": "markdown",
   "metadata": {},
   "source": [
    "## Original data files before analysis"
   ]
  },
  {
   "cell_type": "markdown",
   "metadata": {},
   "source": [
    "Before analyzing the texts, the following tables were produced: \n",
    "- CORPUS\n",
    "- LIB\n",
    "- TFIDF\n",
    "- VOCAB\n",
    "\n",
    "THe CORPUS table contains all of the constitutions organized in the OHCO format: country name, article number, paragraph number, sentence number, and token number. The corpus also contains all of the tokens converted into terms, which is a normalized form of the tocken without capitalization or punctuation included. Using the NLTK library and the upenn_tagset.txt file containing the list of parts of speech, a part of speech (pos) tag was assigned to each term. This table is shown in Figure 4 and can be found at LINK.\n",
    "\n",
    "The LIB table contains descriptive information about the countries. It contains the name of each country, the HTML link from Constitue Project, the year the constitution was most recently updated, the continent the country is on, the type of government of the country, and the category of democracy as defined by The Economist. This table is shown in Figure 5 and can be found at LINK.\n",
    "\n",
    "The VOCAB table contains the counts for each term, the probability of those terms, whether the terms are stop words, the maximum part of speech, and maximum part of speech group, and lastly the DFIDF. This table is shown in Figure 6 and can be found at LINK.\n",
    "\n",
    "The TFIDF table contains the TFIDF values for each term for all 193 countries. This table is shown in Figure 7 and can be found at LINK.\n"
   ]
  },
  {
   "cell_type": "markdown",
   "metadata": {},
   "source": [
    "<div class=\"image123\">\n",
    "    <div style=\"float:left;margin-right:5px;\">\n",
    "        <img src=\"./Figures/CORPUS.png\" height=\"500\" width=\"500\"  />\n",
    "        <p style=\"text-align:center;\"><b>Figure 4.</b> The CORPUS table.</p>\n",
    "    </div>\n",
    "    <div style=\"float:left;margin-right:5px;\">\n",
    "        <img class=\"middle-img\" src=\"./Figures/LIB.png\" height=\"800\" width=\"800\" />\n",
    "        <p style=\"text-align:center;\"><b>Figure 5.</b> The LIB table.</p>\n",
    "    </div>\n",
    "</div>"
   ]
  },
  {
   "cell_type": "markdown",
   "metadata": {},
   "source": [
    "<div class=\"image123\">\n",
    "    <div style=\"float:left;margin-right:5px;\">\n",
    "        <img src=\"./Figures/VOCAB.png\" height=\"500\" width=\"500\"  />\n",
    "        <p style=\"text-align:center;\"><b>Figure 6.</b> The VOCAB table.</p>\n",
    "    </div>\n",
    "    <div style=\"float:left;margin-right:5px;\">\n",
    "        <img class=\"middle-img\" src=\"./Figures/TFIDF.png\" height=\"600\" width=\"600\" />\n",
    "        <p style=\"text-align:center;\"><b>Figure 7.</b> The TFIDF table.</p>\n",
    "    </div>\n",
    "</div>"
   ]
  },
  {
   "cell_type": "markdown",
   "metadata": {},
   "source": [
    "## Hierarchical clustering"
   ]
  },
  {
   "cell_type": "markdown",
   "metadata": {},
   "source": [
    "The following tables were produced:\n",
    "- TFIDF_1\n",
    "- VOCAB_1\n",
    "- PAIRS"
   ]
  },
  {
   "cell_type": "markdown",
   "metadata": {},
   "source": [
    "## Principal components (PCA)"
   ]
  },
  {
   "cell_type": "markdown",
   "metadata": {},
   "source": [
    "The following tables were produced:\n",
    "- TFIDF_2\n",
    "- VOCAB_2\n",
    "- LOADINGS\n",
    "- DCM \n",
    "- COMPINF"
   ]
  },
  {
   "cell_type": "markdown",
   "metadata": {},
   "source": [
    "## Topic models (LDA)"
   ]
  },
  {
   "cell_type": "markdown",
   "metadata": {},
   "source": [
    "The following tables were produced:\n",
    "- PHI\n",
    "- THETA\n",
    "- TOPICS"
   ]
  },
  {
   "cell_type": "markdown",
   "metadata": {},
   "source": [
    "## Word embeddings"
   ]
  },
  {
   "cell_type": "markdown",
   "metadata": {},
   "source": [
    "The following tables were produced:\n",
    "- COORDS"
   ]
  },
  {
   "cell_type": "markdown",
   "metadata": {},
   "source": [
    "# <b>Exploration and Interpretation</b>"
   ]
  },
  {
   "cell_type": "markdown",
   "metadata": {},
   "source": [
    "## Hierarchical clustering"
   ]
  },
  {
   "cell_type": "markdown",
   "metadata": {},
   "source": [
    "To generate the hierarchical cluster diagrams, a new VOCAB table was created including only the top 1000 most significant (according to DFIDF) common nouns, verbs, adverbs, and adjectives. The TFIDF table was then filtered to only include terms in this new VOCAB. Next, a document-pair table (PAIR) was generated and a new column was added containing the computed cosine distance between pairs of documents. Using the PAIR table, a dendrogram was created showing the similarity between the constitutions for each country. The labels were chosen to be the country name and continent joined together to see whether constitutions from the same continent would be clustered together.\n",
    "\n",
    "Interestingly, it appears that this is the case. Constitutions from Asia, Europe, Africa, Americas, and Oceania mostly are in the same clusters. This reveals that there may be some underlying structure that is similar between countries in the same continent."
   ]
  },
  {
   "cell_type": "markdown",
   "metadata": {},
   "source": [
    "<div class=\"image123\">\n",
    "    <div style=\"float:left;margin-right:5px;\">\n",
    "        <img src=\"./Figures/cluster.png\" width=\"350\" height=\"300\" /> \n",
    "        <p style=\"text-align:center;\"><b>Figure 8.</b> The dendrogram showing how constitutions cluster, labeled with both the country name and continent.</p>\n",
    "    </div>\n",
    "</div>"
   ]
  },
  {
   "cell_type": "markdown",
   "metadata": {},
   "source": [
    "## Principal components (PCA)"
   ]
  },
  {
   "cell_type": "markdown",
   "metadata": {},
   "source": [
    "A reduced version of the VOCAB table was obtained with the top 10,000 nouns sorted in descending order. The top 5 words for each component seem to all relate to government officials such as congress, senate, king, and governer (Figure 9). Due to this, the principal components were plotted along with their associated government type. As an example the first component has the words republic, congress, collectivities, chamber, and senate for the positive dimension, and the words subection, section, house, king, and governor for the negative dimension. It seems that this may correlate with either a republic or monarchy. As shown in Figure 10, the constitutions from monarchies have and average value for the first component that is much lower than the average value for consitutions from republics. "
   ]
  },
  {
   "cell_type": "markdown",
   "metadata": {},
   "source": [
    "<div class=\"image123\">\n",
    "    <div style=\"float:left;margin-right:5px;\">\n",
    "        <img src=\"./Figures/components.png\" height=\"400\" width=\"400\"  />\n",
    "        <p style=\"text-align:center;\"><b>Figure 9.</b> The 10 principal components.</p>\n",
    "    </div>\n",
    "    <div style=\"float:left;margin-right:5px;\">\n",
    "        <img class=\"middle-img\" src=\"./Figures/PC0.png\" height=\"500\" width=\"400\" />\n",
    "        <p style=\"text-align:center;\"><b>Figure 10.</b> The distribution of the first component by government type.</p>\n",
    "    </div>\n",
    "</div>"
   ]
  },
  {
   "cell_type": "markdown",
   "metadata": {},
   "source": [
    "## Topic models (LDA)"
   ]
  },
  {
   "cell_type": "markdown",
   "metadata": {},
   "source": [
    "An LDA model was created with 30 topics and 40,000 terms per topic. The top 20 terms for each topic were shown. It was found that topic 11 was highly correlated with authoritarian countries in Asia and Africa, such as China, North Korea, and South Sudan (Figure 11). When examining the words for this topic, some of them indicate why this topic is associate with these countries. Some of the words include state, accordance, development, supreme, power, and laws.\n",
    "\n",
    "In contrast, topic 24 was found to be highly correlated with european countries classified as full democracies, such as Austria, Sweden, and Switzerland. Some words from this topic include public, art, committee, and matters. "
   ]
  },
  {
   "cell_type": "markdown",
   "metadata": {},
   "source": [
    "<div class=\"image123\">\n",
    "    <div style=\"float:left;margin-right:5px;\">\n",
    "        <img src=\"./Figures/topic_authoritarian.png\" height=\"300\" width=\"300\"  />\n",
    "        <p style=\"text-align:center;\"><b>Figure 11.</b> Countries most associated with topic 11.</p>\n",
    "    </div>\n",
    "    <div style=\"float:left;margin-right:5px;\">\n",
    "        <img class=\"middle-img\" src=\"./Figures/topic_democracy.png\" height=\"220\" width=\"220\" />\n",
    "        <p style=\"text-align:center;\"><b>Figure 12.</b> Countries most associated with topic 24.</p>\n",
    "    </div>\n",
    "</div>"
   ]
  },
  {
   "cell_type": "markdown",
   "metadata": {},
   "source": [
    "## Word embeddings"
   ]
  },
  {
   "cell_type": "markdown",
   "metadata": {},
   "source": [
    "When obtaining the coordinates for word embeddings with two components, it is interesting to see some examples of what types of words tend to cluster together. One cluster contains words such as peace, unity, solidarity, diversity, values, and progress along with defend, protect, and preserve (Figure 13). This cluster seems to represent the importance of maintaining traditions and values held by the country and may be associated most with democratic countries. \n",
    "\n",
    "Another cluster contains the words naturalisation, descent, parent, mother, father, birth, born, and marriage. This seems to be related to how an individual becomes a citizen of the country, either through a naturalization process, through marriage, or from being born in the country. "
   ]
  },
  {
   "cell_type": "markdown",
   "metadata": {},
   "source": [
    "<div class=\"image123\">\n",
    "    <div style=\"float:left;margin-right:5px;\">\n",
    "        <img src=\"./Figures/word_embedding_1.png\" height=\"800\" width=\"800\"  />\n",
    "        <p style=\"text-align:center;\"><b>Figure 13.</b> Cluster related to preserving values. </p>\n",
    "    </div>\n",
    "    <div style=\"float:left;margin-right:5px;\">\n",
    "        <img class=\"middle-img\" src=\"./Figures/word_embedding_2.png\" height=\"800\" width=\"800\" />\n",
    "        <p style=\"text-align:center;\"><b>Figure 14.</b> Cluster related to citizenship.</p>\n",
    "    </div>\n",
    "</div>"
   ]
  },
  {
   "cell_type": "markdown",
   "metadata": {},
   "source": [
    "## Sentiment analysis"
   ]
  },
  {
   "cell_type": "markdown",
   "metadata": {},
   "source": [
    "The method of using sentiment analysis to identify emotion values is not as applicable for this corpus of constitutions; however, word shift graphs are valuable because they can indicate which individual terms contribute most to the difference between two consitutions. An example is shown in Figure 15 comparing North Korea and the United States. Some of the words that distinguish the constitution of North Korea are peoples, assembly, supreme, socialist, national, directives, and central. In contrast, some of the words distinguishing the United States are states, president, united, congress, and representatives. \n",
    "\n",
    "Another interesting comparison is between more similar countries, Germany and the Netherlands, shown in Figure 16. It is immediately apparant that the words king and royal distinguish the Netherlands from Germany. However, there is also a difference made due to the use of german words referring to states (lander) and the parliament (bundestag)."
   ]
  },
  {
   "cell_type": "markdown",
   "metadata": {},
   "source": [
    "<div class=\"image123\">\n",
    "    <div style=\"float:left;margin-right:5px;\">\n",
    "        <img src=\"./Figures/US_and_NK.png\" height=\"300\" width=\"300\"  />\n",
    "        <p style=\"text-align:center;\"><b>Figure 15.</b> Frequency shift between North Korea and the United States. </p>\n",
    "    </div>\n",
    "    <div style=\"float:left;margin-right:5px;\">\n",
    "        <img class=\"middle-img\" src=\"./Figures/germany_and_netherlands.png\" height=\"300\" width=\"300\" />\n",
    "        <p style=\"text-align:center;\"><b>Figure 16.</b>Frequency shift between Germany and the Netherlands.</p>\n",
    "    </div>\n",
    "</div>"
   ]
  },
  {
   "cell_type": "markdown",
   "metadata": {},
   "source": [
    "# <b>Conclusion</b>"
   ]
  },
  {
   "cell_type": "markdown",
   "metadata": {},
   "source": [
    "These analyses demonstrate the utility of using text analytics to explore the differences between countries based on their constitutions. Applying hierarchical clustering resulted in the finding that countries from the same continent were more likely to be grouped together based on the frequency of terms used in their constitution. Principal component analysis uncovered the key phrases differentiating republics and monarchies. Topic modeling allowed for insight into which words were most associated with authoritarian or fully democratic countries. Word embeddings displayed additional clusterings of words related to more detailed topics, such as preserving traditions or citizenship. Finally, word shift graphs were used to find the most significant terms dinstinguishing each constitution to allow for direct comparison. "
   ]
  }
 ],
 "metadata": {
  "kernelspec": {
   "display_name": "Python 3",
   "language": "python",
   "name": "python3"
  },
  "language_info": {
   "codemirror_mode": {
    "name": "ipython",
    "version": 3
   },
   "file_extension": ".py",
   "mimetype": "text/x-python",
   "name": "python",
   "nbconvert_exporter": "python",
   "pygments_lexer": "ipython3",
   "version": "3.8.8"
  }
 },
 "nbformat": 4,
 "nbformat_minor": 4
}
